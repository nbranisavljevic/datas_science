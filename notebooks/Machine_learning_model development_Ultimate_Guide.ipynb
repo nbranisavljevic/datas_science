{
 "cells": [
  {
   "cell_type": "markdown",
   "id": "59ce342b-8373-4858-8971-13638c9292ef",
   "metadata": {},
   "source": [
    "# Machine learning model development - Ultimate guide "
   ]
  },
  {
   "cell_type": "markdown",
   "id": "ccad346b-1da5-411d-a11d-6c3bf4525b09",
   "metadata": {},
   "source": [
    "In this notebook we present ultimate guide for machine learning model development that include:\n",
    "\n",
    "- Model choise\n",
    "- Model trainig and testing\n",
    "- Cross validation\n",
    "- Hyper parameter grid search\n",
    "- AutoML application\n"
   ]
  },
  {
   "cell_type": "code",
   "execution_count": null,
   "id": "68c88576-366e-4439-9628-ecb7b162d529",
   "metadata": {},
   "outputs": [],
   "source": []
  }
 ],
 "metadata": {
  "kernelspec": {
   "display_name": "Python 3 (ipykernel)",
   "language": "python",
   "name": "python3"
  },
  "language_info": {
   "codemirror_mode": {
    "name": "ipython",
    "version": 3
   },
   "file_extension": ".py",
   "mimetype": "text/x-python",
   "name": "python",
   "nbconvert_exporter": "python",
   "pygments_lexer": "ipython3",
   "version": "3.12.3"
  }
 },
 "nbformat": 4,
 "nbformat_minor": 5
}
