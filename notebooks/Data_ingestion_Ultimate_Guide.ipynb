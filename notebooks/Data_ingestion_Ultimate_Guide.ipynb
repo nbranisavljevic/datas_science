{
 "cells": [
  {
   "cell_type": "markdown",
   "id": "a8d16219-df64-459d-9254-898b2e9e63c5",
   "metadata": {},
   "source": [
    "# Data ingestion - ultimate guide"
   ]
  },
  {
   "cell_type": "markdown",
   "id": "4a065a36-2bdd-4fa5-8493-7e25c93261aa",
   "metadata": {},
   "source": [
    "Data ingestion is one of the most frustrating steps in data analisys process. Since data can be in various formats and in the memory or in the files, there must be consistent way of ingestig data into data frame. We are considering several formats of data preserving and keeping, from data alredy in memory in the form of variables lists and dictionaries, to the form of CSV, TSV, JSON, Relational database tables, Excel, XML, ..."
   ]
  },
  {
   "cell_type": "markdown",
   "id": "171e746b-d5e2-4b8d-9628-798a4edad9f2",
   "metadata": {},
   "source": [
    "This is data used to ilustrate the presented methods."
   ]
  },
  {
   "cell_type": "code",
   "execution_count": null,
   "id": "a27ce92a-3c6a-488d-ac72-4a516b742755",
   "metadata": {},
   "outputs": [],
   "source": []
  }
 ],
 "metadata": {
  "kernelspec": {
   "display_name": "Python 3 (ipykernel)",
   "language": "python",
   "name": "python3"
  },
  "language_info": {
   "codemirror_mode": {
    "name": "ipython",
    "version": 3
   },
   "file_extension": ".py",
   "mimetype": "text/x-python",
   "name": "python",
   "nbconvert_exporter": "python",
   "pygments_lexer": "ipython3",
   "version": "3.12.3"
  }
 },
 "nbformat": 4,
 "nbformat_minor": 5
}
